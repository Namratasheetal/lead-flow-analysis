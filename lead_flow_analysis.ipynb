{
 "cells": [
  {
   "cell_type": "markdown",
   "id": "f3efb29d",
   "metadata": {},
   "source": [
    "## Importing Libraries and read the dataset"
   ]
  },
  {
   "cell_type": "code",
   "execution_count": 44,
   "id": "a8aa4b9e",
   "metadata": {},
   "outputs": [],
   "source": [
    "import pandas as pd\n",
    "import numpy as np\n",
    "import matplotlib.pyplot as plt\n",
    "import seaborn as sns"
   ]
  },
  {
   "cell_type": "code",
   "execution_count": 45,
   "id": "69c4ca40",
   "metadata": {},
   "outputs": [],
   "source": [
    "df=pd.read_excel(\"C:/Users/Admin/Downloads/Assignment_Raw data Excel File.xlsx\")"
   ]
  },
  {
   "cell_type": "markdown",
   "id": "47d37ed0",
   "metadata": {},
   "source": [
    "## Understanding Data"
   ]
  },
  {
   "cell_type": "markdown",
   "id": "346cdd80",
   "metadata": {},
   "source": [
    "### Checking few samples"
   ]
  },
  {
   "cell_type": "code",
   "execution_count": 46,
   "id": "7535c411",
   "metadata": {},
   "outputs": [
    {
     "data": {
      "text/html": [
       "<div>\n",
       "<style scoped>\n",
       "    .dataframe tbody tr th:only-of-type {\n",
       "        vertical-align: middle;\n",
       "    }\n",
       "\n",
       "    .dataframe tbody tr th {\n",
       "        vertical-align: top;\n",
       "    }\n",
       "\n",
       "    .dataframe thead th {\n",
       "        text-align: right;\n",
       "    }\n",
       "</style>\n",
       "<table border=\"1\" class=\"dataframe\">\n",
       "  <thead>\n",
       "    <tr style=\"text-align: right;\">\n",
       "      <th></th>\n",
       "      <th>Lead ID</th>\n",
       "      <th>Lead creation date</th>\n",
       "      <th>Webinar Attendance Status</th>\n",
       "      <th>Webinar_Duration (Mins)</th>\n",
       "      <th>Live Session Status (Yes/No)</th>\n",
       "      <th>Registration Date time</th>\n",
       "      <th>Qualification DateTime</th>\n",
       "      <th>Lead Stage</th>\n",
       "      <th>Channel</th>\n",
       "      <th>Rechurned DateTime</th>\n",
       "      <th>...</th>\n",
       "      <th>call_status</th>\n",
       "      <th>Pre-Sales Team First call</th>\n",
       "      <th>Pre-Sales Team last call</th>\n",
       "      <th>Pre-Sales Team total attempts</th>\n",
       "      <th>Pre-Sales Team successful attempts</th>\n",
       "      <th>Sales-Team First call</th>\n",
       "      <th>Sales-Team last call</th>\n",
       "      <th>Sales- Team Total Attempts</th>\n",
       "      <th>Sales-Team successful attempts</th>\n",
       "      <th>Total Duration of the call (in seconds)</th>\n",
       "    </tr>\n",
       "  </thead>\n",
       "  <tbody>\n",
       "    <tr>\n",
       "      <th>0</th>\n",
       "      <td>1</td>\n",
       "      <td>Jun 8, 2024, 12:24:28â€¯PM</td>\n",
       "      <td>Yes</td>\n",
       "      <td>30.0</td>\n",
       "      <td>Yes</td>\n",
       "      <td>NaN</td>\n",
       "      <td>Jun 8, 2024, 12:00:00â€¯AM</td>\n",
       "      <td>Contact Again</td>\n",
       "      <td>Offline Workshops</td>\n",
       "      <td>NaN</td>\n",
       "      <td>...</td>\n",
       "      <td>NaN</td>\n",
       "      <td>NaN</td>\n",
       "      <td>NaN</td>\n",
       "      <td>NaN</td>\n",
       "      <td>NaN</td>\n",
       "      <td>Jun 9, 2024, 4:57:53â€¯PM</td>\n",
       "      <td>Jun 9, 2024, 4:57:53â€¯PM</td>\n",
       "      <td>1.0</td>\n",
       "      <td>0.0</td>\n",
       "      <td>NaN</td>\n",
       "    </tr>\n",
       "    <tr>\n",
       "      <th>1</th>\n",
       "      <td>2</td>\n",
       "      <td>Jun 8, 2024, 12:24:28â€¯PM</td>\n",
       "      <td>Yes</td>\n",
       "      <td>31.0</td>\n",
       "      <td>Yes</td>\n",
       "      <td>NaN</td>\n",
       "      <td>Jun 8, 2024, 12:00:00â€¯AM</td>\n",
       "      <td>Contact Again</td>\n",
       "      <td>Offline Workshops</td>\n",
       "      <td>NaN</td>\n",
       "      <td>...</td>\n",
       "      <td>NaN</td>\n",
       "      <td>NaN</td>\n",
       "      <td>NaN</td>\n",
       "      <td>NaN</td>\n",
       "      <td>NaN</td>\n",
       "      <td>Jun 9, 2024, 4:46:21â€¯PM</td>\n",
       "      <td>Jun 9, 2024, 4:46:21â€¯PM</td>\n",
       "      <td>1.0</td>\n",
       "      <td>0.0</td>\n",
       "      <td>NaN</td>\n",
       "    </tr>\n",
       "    <tr>\n",
       "      <th>2</th>\n",
       "      <td>3</td>\n",
       "      <td>Jun 8, 2024, 12:24:27â€¯PM</td>\n",
       "      <td>Yes</td>\n",
       "      <td>32.0</td>\n",
       "      <td>Yes</td>\n",
       "      <td>NaN</td>\n",
       "      <td>Jun 8, 2024, 12:00:00â€¯AM</td>\n",
       "      <td>Contact Again</td>\n",
       "      <td>Offline Workshops</td>\n",
       "      <td>NaN</td>\n",
       "      <td>...</td>\n",
       "      <td>NaN</td>\n",
       "      <td>NaN</td>\n",
       "      <td>NaN</td>\n",
       "      <td>NaN</td>\n",
       "      <td>NaN</td>\n",
       "      <td>Jun 9, 2024, 4:58:39â€¯PM</td>\n",
       "      <td>Jun 9, 2024, 6:35:52â€¯PM</td>\n",
       "      <td>2.0</td>\n",
       "      <td>0.0</td>\n",
       "      <td>NaN</td>\n",
       "    </tr>\n",
       "    <tr>\n",
       "      <th>3</th>\n",
       "      <td>4</td>\n",
       "      <td>Jun 8, 2024, 12:24:26â€¯PM</td>\n",
       "      <td>Yes</td>\n",
       "      <td>33.0</td>\n",
       "      <td>Yes</td>\n",
       "      <td>NaN</td>\n",
       "      <td>Jun 8, 2024, 12:00:00â€¯AM</td>\n",
       "      <td>Contact Again</td>\n",
       "      <td>Offline Workshops</td>\n",
       "      <td>NaN</td>\n",
       "      <td>...</td>\n",
       "      <td>NaN</td>\n",
       "      <td>NaN</td>\n",
       "      <td>NaN</td>\n",
       "      <td>NaN</td>\n",
       "      <td>NaN</td>\n",
       "      <td>Jun 9, 2024, 4:59:57â€¯PM</td>\n",
       "      <td>Jun 9, 2024, 6:36:11â€¯PM</td>\n",
       "      <td>3.0</td>\n",
       "      <td>0.0</td>\n",
       "      <td>NaN</td>\n",
       "    </tr>\n",
       "    <tr>\n",
       "      <th>4</th>\n",
       "      <td>5</td>\n",
       "      <td>Jun 8, 2024, 12:24:25â€¯PM</td>\n",
       "      <td>Yes</td>\n",
       "      <td>34.0</td>\n",
       "      <td>Yes</td>\n",
       "      <td>NaN</td>\n",
       "      <td>Jun 8, 2024, 12:00:00â€¯AM</td>\n",
       "      <td>Contact Again</td>\n",
       "      <td>Offline Workshops</td>\n",
       "      <td>NaN</td>\n",
       "      <td>...</td>\n",
       "      <td>NaN</td>\n",
       "      <td>NaN</td>\n",
       "      <td>NaN</td>\n",
       "      <td>NaN</td>\n",
       "      <td>NaN</td>\n",
       "      <td>Jun 9, 2024, 4:41:48â€¯PM</td>\n",
       "      <td>Jun 9, 2024, 4:41:48â€¯PM</td>\n",
       "      <td>1.0</td>\n",
       "      <td>0.0</td>\n",
       "      <td>97.0</td>\n",
       "    </tr>\n",
       "  </tbody>\n",
       "</table>\n",
       "<p>5 rows × 27 columns</p>\n",
       "</div>"
      ],
      "text/plain": [
       "   Lead ID          Lead creation date Webinar Attendance Status  \\\n",
       "0        1  Jun 8, 2024, 12:24:28â€¯PM                       Yes   \n",
       "1        2  Jun 8, 2024, 12:24:28â€¯PM                       Yes   \n",
       "2        3  Jun 8, 2024, 12:24:27â€¯PM                       Yes   \n",
       "3        4  Jun 8, 2024, 12:24:26â€¯PM                       Yes   \n",
       "4        5  Jun 8, 2024, 12:24:25â€¯PM                       Yes   \n",
       "\n",
       "   Webinar_Duration (Mins) Live Session Status (Yes/No)  \\\n",
       "0                     30.0                          Yes   \n",
       "1                     31.0                          Yes   \n",
       "2                     32.0                          Yes   \n",
       "3                     33.0                          Yes   \n",
       "4                     34.0                          Yes   \n",
       "\n",
       "  Registration Date time      Qualification DateTime     Lead Stage  \\\n",
       "0                    NaN  Jun 8, 2024, 12:00:00â€¯AM  Contact Again   \n",
       "1                    NaN  Jun 8, 2024, 12:00:00â€¯AM  Contact Again   \n",
       "2                    NaN  Jun 8, 2024, 12:00:00â€¯AM  Contact Again   \n",
       "3                    NaN  Jun 8, 2024, 12:00:00â€¯AM  Contact Again   \n",
       "4                    NaN  Jun 8, 2024, 12:00:00â€¯AM  Contact Again   \n",
       "\n",
       "             Channel Rechurned DateTime  ... call_status  \\\n",
       "0  Offline Workshops                NaN  ...         NaN   \n",
       "1  Offline Workshops                NaN  ...         NaN   \n",
       "2  Offline Workshops                NaN  ...         NaN   \n",
       "3  Offline Workshops                NaN  ...         NaN   \n",
       "4  Offline Workshops                NaN  ...         NaN   \n",
       "\n",
       "  Pre-Sales Team First call Pre-Sales Team last call  \\\n",
       "0                       NaN                      NaN   \n",
       "1                       NaN                      NaN   \n",
       "2                       NaN                      NaN   \n",
       "3                       NaN                      NaN   \n",
       "4                       NaN                      NaN   \n",
       "\n",
       "  Pre-Sales Team total attempts Pre-Sales Team successful attempts  \\\n",
       "0                           NaN                                NaN   \n",
       "1                           NaN                                NaN   \n",
       "2                           NaN                                NaN   \n",
       "3                           NaN                                NaN   \n",
       "4                           NaN                                NaN   \n",
       "\n",
       "       Sales-Team First call       Sales-Team last call  \\\n",
       "0  Jun 9, 2024, 4:57:53â€¯PM  Jun 9, 2024, 4:57:53â€¯PM   \n",
       "1  Jun 9, 2024, 4:46:21â€¯PM  Jun 9, 2024, 4:46:21â€¯PM   \n",
       "2  Jun 9, 2024, 4:58:39â€¯PM  Jun 9, 2024, 6:35:52â€¯PM   \n",
       "3  Jun 9, 2024, 4:59:57â€¯PM  Jun 9, 2024, 6:36:11â€¯PM   \n",
       "4  Jun 9, 2024, 4:41:48â€¯PM  Jun 9, 2024, 4:41:48â€¯PM   \n",
       "\n",
       "  Sales- Team Total Attempts Sales-Team successful attempts  \\\n",
       "0                        1.0                            0.0   \n",
       "1                        1.0                            0.0   \n",
       "2                        2.0                            0.0   \n",
       "3                        3.0                            0.0   \n",
       "4                        1.0                            0.0   \n",
       "\n",
       "  Total Duration of the call (in seconds)  \n",
       "0                                     NaN  \n",
       "1                                     NaN  \n",
       "2                                     NaN  \n",
       "3                                     NaN  \n",
       "4                                    97.0  \n",
       "\n",
       "[5 rows x 27 columns]"
      ]
     },
     "execution_count": 46,
     "metadata": {},
     "output_type": "execute_result"
    }
   ],
   "source": [
    "df.head()"
   ]
  },
  {
   "cell_type": "markdown",
   "id": "ae4a2494",
   "metadata": {},
   "source": [
    "### Checking Shape of Data "
   ]
  },
  {
   "cell_type": "code",
   "execution_count": 47,
   "id": "9f405d9f",
   "metadata": {},
   "outputs": [
    {
     "data": {
      "text/plain": [
       "(11801, 27)"
      ]
     },
     "execution_count": 47,
     "metadata": {},
     "output_type": "execute_result"
    }
   ],
   "source": [
    "df.shape    ### dataset contains 11801 rows and 27 columns"
   ]
  },
  {
   "cell_type": "markdown",
   "id": "46b9719e",
   "metadata": {},
   "source": [
    "### Checking info of dataset"
   ]
  },
  {
   "cell_type": "code",
   "execution_count": 48,
   "id": "35d4c03a",
   "metadata": {},
   "outputs": [
    {
     "name": "stdout",
     "output_type": "stream",
     "text": [
      "<class 'pandas.core.frame.DataFrame'>\n",
      "RangeIndex: 11801 entries, 0 to 11800\n",
      "Data columns (total 27 columns):\n",
      " #   Column                                   Non-Null Count  Dtype  \n",
      "---  ------                                   --------------  -----  \n",
      " 0   Lead ID                                  11801 non-null  int64  \n",
      " 1   Lead creation date                       11801 non-null  object \n",
      " 2   Webinar Attendance Status                11801 non-null  object \n",
      " 3   Webinar_Duration (Mins)                  259 non-null    float64\n",
      " 4   Live Session Status (Yes/No)             11801 non-null  object \n",
      " 5   Registration Date time                   10332 non-null  object \n",
      " 6   Qualification DateTime                   11796 non-null  object \n",
      " 7   Lead Stage                               11801 non-null  object \n",
      " 8   Channel                                  11792 non-null  object \n",
      " 9   Rechurned DateTime                       1950 non-null   object \n",
      " 10  PreSales Assigned date                   10820 non-null  object \n",
      " 11  Sales Assigned Date                      11686 non-null  object \n",
      " 12  Language                                 11776 non-null  object \n",
      " 13  Down Payment Date                        452 non-null    object \n",
      " 14  Full Payment Date                        491 non-null    object \n",
      " 15  Down Payment Status                      11801 non-null  object \n",
      " 16  Fullpayment Status                       11801 non-null  object \n",
      " 17  call_status                              430 non-null    object \n",
      " 18  Pre-Sales Team First call                9814 non-null   object \n",
      " 19  Pre-Sales Team last call                 9814 non-null   object \n",
      " 20  Pre-Sales Team total attempts            9886 non-null   float64\n",
      " 21  Pre-Sales Team successful attempts       9886 non-null   float64\n",
      " 22  Sales-Team First call                    11552 non-null  object \n",
      " 23  Sales-Team last call                     11552 non-null  object \n",
      " 24  Sales- Team Total Attempts               11555 non-null  float64\n",
      " 25  Sales-Team successful attempts           11555 non-null  float64\n",
      " 26  Total Duration of the call (in seconds)  10444 non-null  float64\n",
      "dtypes: float64(6), int64(1), object(20)\n",
      "memory usage: 2.4+ MB\n"
     ]
    }
   ],
   "source": [
    "df.info()"
   ]
  },
  {
   "cell_type": "markdown",
   "id": "c76ff3c9",
   "metadata": {},
   "source": [
    "# Summary Statistics of dataset. Listing out the columns to be worked on"
   ]
  },
  {
   "cell_type": "markdown",
   "id": "deeef941",
   "metadata": {},
   "source": [
    "####  Key Observations\n",
    "1. Date/Time Fields (e.g., Lead creation date, Sales-Team First call) contain non-standard characters like â€¯, which need cleaning.\n",
    "\n",
    "2. Missing Values:Webinar_Duration (Mins): available only for 259 out of 11,801 rows.\n",
    "\n",
    "3. Many time-based columns (like Registration Date time, call_status) have significant nulls.\n",
    "\n",
    "4. Categorical Columns: include user status, lead stage, channel, payment status, etc.\n",
    "\n",
    "5. Quantitative Fields: attempt counts, durations, etc"
   ]
  },
  {
   "cell_type": "code",
   "execution_count": 49,
   "id": "0bdad719",
   "metadata": {},
   "outputs": [
    {
     "data": {
      "text/html": [
       "<div>\n",
       "<style scoped>\n",
       "    .dataframe tbody tr th:only-of-type {\n",
       "        vertical-align: middle;\n",
       "    }\n",
       "\n",
       "    .dataframe tbody tr th {\n",
       "        vertical-align: top;\n",
       "    }\n",
       "\n",
       "    .dataframe thead th {\n",
       "        text-align: right;\n",
       "    }\n",
       "</style>\n",
       "<table border=\"1\" class=\"dataframe\">\n",
       "  <thead>\n",
       "    <tr style=\"text-align: right;\">\n",
       "      <th></th>\n",
       "      <th>Lead ID</th>\n",
       "      <th>Webinar_Duration (Mins)</th>\n",
       "      <th>Pre-Sales Team total attempts</th>\n",
       "      <th>Pre-Sales Team successful attempts</th>\n",
       "      <th>Sales- Team Total Attempts</th>\n",
       "      <th>Sales-Team successful attempts</th>\n",
       "      <th>Total Duration of the call (in seconds)</th>\n",
       "    </tr>\n",
       "  </thead>\n",
       "  <tbody>\n",
       "    <tr>\n",
       "      <th>count</th>\n",
       "      <td>11801.000000</td>\n",
       "      <td>259.000000</td>\n",
       "      <td>9886.000000</td>\n",
       "      <td>9886.000000</td>\n",
       "      <td>11555.000000</td>\n",
       "      <td>11555.000000</td>\n",
       "      <td>10444.000000</td>\n",
       "    </tr>\n",
       "    <tr>\n",
       "      <th>mean</th>\n",
       "      <td>5901.000000</td>\n",
       "      <td>17.803089</td>\n",
       "      <td>2.725268</td>\n",
       "      <td>1.482399</td>\n",
       "      <td>3.454089</td>\n",
       "      <td>1.744872</td>\n",
       "      <td>2576.244542</td>\n",
       "    </tr>\n",
       "    <tr>\n",
       "      <th>std</th>\n",
       "      <td>3406.799598</td>\n",
       "      <td>14.892243</td>\n",
       "      <td>2.180101</td>\n",
       "      <td>0.948787</td>\n",
       "      <td>2.827515</td>\n",
       "      <td>1.472260</td>\n",
       "      <td>2498.663124</td>\n",
       "    </tr>\n",
       "    <tr>\n",
       "      <th>min</th>\n",
       "      <td>1.000000</td>\n",
       "      <td>1.000000</td>\n",
       "      <td>0.000000</td>\n",
       "      <td>0.000000</td>\n",
       "      <td>0.000000</td>\n",
       "      <td>0.000000</td>\n",
       "      <td>0.000000</td>\n",
       "    </tr>\n",
       "    <tr>\n",
       "      <th>25%</th>\n",
       "      <td>2951.000000</td>\n",
       "      <td>4.000000</td>\n",
       "      <td>1.000000</td>\n",
       "      <td>1.000000</td>\n",
       "      <td>1.000000</td>\n",
       "      <td>1.000000</td>\n",
       "      <td>450.500000</td>\n",
       "    </tr>\n",
       "    <tr>\n",
       "      <th>50%</th>\n",
       "      <td>5901.000000</td>\n",
       "      <td>9.000000</td>\n",
       "      <td>2.000000</td>\n",
       "      <td>1.000000</td>\n",
       "      <td>3.000000</td>\n",
       "      <td>1.000000</td>\n",
       "      <td>1773.000000</td>\n",
       "    </tr>\n",
       "    <tr>\n",
       "      <th>75%</th>\n",
       "      <td>8851.000000</td>\n",
       "      <td>31.000000</td>\n",
       "      <td>3.000000</td>\n",
       "      <td>2.000000</td>\n",
       "      <td>4.000000</td>\n",
       "      <td>3.000000</td>\n",
       "      <td>4203.000000</td>\n",
       "    </tr>\n",
       "    <tr>\n",
       "      <th>max</th>\n",
       "      <td>11801.000000</td>\n",
       "      <td>40.000000</td>\n",
       "      <td>24.000000</td>\n",
       "      <td>8.000000</td>\n",
       "      <td>35.000000</td>\n",
       "      <td>13.000000</td>\n",
       "      <td>16038.000000</td>\n",
       "    </tr>\n",
       "  </tbody>\n",
       "</table>\n",
       "</div>"
      ],
      "text/plain": [
       "            Lead ID  Webinar_Duration (Mins)  Pre-Sales Team total attempts  \\\n",
       "count  11801.000000               259.000000                    9886.000000   \n",
       "mean    5901.000000                17.803089                       2.725268   \n",
       "std     3406.799598                14.892243                       2.180101   \n",
       "min        1.000000                 1.000000                       0.000000   \n",
       "25%     2951.000000                 4.000000                       1.000000   \n",
       "50%     5901.000000                 9.000000                       2.000000   \n",
       "75%     8851.000000                31.000000                       3.000000   \n",
       "max    11801.000000                40.000000                      24.000000   \n",
       "\n",
       "       Pre-Sales Team successful attempts  Sales- Team Total Attempts  \\\n",
       "count                         9886.000000                11555.000000   \n",
       "mean                             1.482399                    3.454089   \n",
       "std                              0.948787                    2.827515   \n",
       "min                              0.000000                    0.000000   \n",
       "25%                              1.000000                    1.000000   \n",
       "50%                              1.000000                    3.000000   \n",
       "75%                              2.000000                    4.000000   \n",
       "max                              8.000000                   35.000000   \n",
       "\n",
       "       Sales-Team successful attempts  Total Duration of the call (in seconds)  \n",
       "count                    11555.000000                             10444.000000  \n",
       "mean                         1.744872                              2576.244542  \n",
       "std                          1.472260                              2498.663124  \n",
       "min                          0.000000                                 0.000000  \n",
       "25%                          1.000000                               450.500000  \n",
       "50%                          1.000000                              1773.000000  \n",
       "75%                          3.000000                              4203.000000  \n",
       "max                         13.000000                             16038.000000  "
      ]
     },
     "execution_count": 49,
     "metadata": {},
     "output_type": "execute_result"
    }
   ],
   "source": [
    "df.describe()"
   ]
  },
  {
   "cell_type": "code",
   "execution_count": 50,
   "id": "07cc33f6",
   "metadata": {},
   "outputs": [
    {
     "data": {
      "text/html": [
       "<div>\n",
       "<style scoped>\n",
       "    .dataframe tbody tr th:only-of-type {\n",
       "        vertical-align: middle;\n",
       "    }\n",
       "\n",
       "    .dataframe tbody tr th {\n",
       "        vertical-align: top;\n",
       "    }\n",
       "\n",
       "    .dataframe thead th {\n",
       "        text-align: right;\n",
       "    }\n",
       "</style>\n",
       "<table border=\"1\" class=\"dataframe\">\n",
       "  <thead>\n",
       "    <tr style=\"text-align: right;\">\n",
       "      <th></th>\n",
       "      <th>Lead creation date</th>\n",
       "      <th>Webinar Attendance Status</th>\n",
       "      <th>Live Session Status (Yes/No)</th>\n",
       "      <th>Registration Date time</th>\n",
       "      <th>Qualification DateTime</th>\n",
       "      <th>Lead Stage</th>\n",
       "      <th>Channel</th>\n",
       "      <th>Rechurned DateTime</th>\n",
       "      <th>PreSales Assigned date</th>\n",
       "      <th>Sales Assigned Date</th>\n",
       "      <th>Language</th>\n",
       "      <th>Down Payment Date</th>\n",
       "      <th>Full Payment Date</th>\n",
       "      <th>Down Payment Status</th>\n",
       "      <th>Fullpayment Status</th>\n",
       "      <th>call_status</th>\n",
       "      <th>Pre-Sales Team First call</th>\n",
       "      <th>Pre-Sales Team last call</th>\n",
       "      <th>Sales-Team First call</th>\n",
       "      <th>Sales-Team last call</th>\n",
       "    </tr>\n",
       "  </thead>\n",
       "  <tbody>\n",
       "    <tr>\n",
       "      <th>count</th>\n",
       "      <td>11801</td>\n",
       "      <td>11801</td>\n",
       "      <td>11801</td>\n",
       "      <td>10332</td>\n",
       "      <td>11796</td>\n",
       "      <td>11801</td>\n",
       "      <td>11792</td>\n",
       "      <td>1950</td>\n",
       "      <td>10820</td>\n",
       "      <td>11686</td>\n",
       "      <td>11776</td>\n",
       "      <td>452</td>\n",
       "      <td>491</td>\n",
       "      <td>11801</td>\n",
       "      <td>11801</td>\n",
       "      <td>430</td>\n",
       "      <td>9814</td>\n",
       "      <td>9814</td>\n",
       "      <td>11552</td>\n",
       "      <td>11552</td>\n",
       "    </tr>\n",
       "    <tr>\n",
       "      <th>unique</th>\n",
       "      <td>11115</td>\n",
       "      <td>2</td>\n",
       "      <td>2</td>\n",
       "      <td>9887</td>\n",
       "      <td>10190</td>\n",
       "      <td>16</td>\n",
       "      <td>16</td>\n",
       "      <td>1727</td>\n",
       "      <td>4955</td>\n",
       "      <td>5740</td>\n",
       "      <td>10</td>\n",
       "      <td>28</td>\n",
       "      <td>474</td>\n",
       "      <td>2</td>\n",
       "      <td>2</td>\n",
       "      <td>4</td>\n",
       "      <td>9382</td>\n",
       "      <td>9324</td>\n",
       "      <td>11005</td>\n",
       "      <td>11066</td>\n",
       "    </tr>\n",
       "    <tr>\n",
       "      <th>top</th>\n",
       "      <td>May 31, 2024, 6:38:04â€¯PM</td>\n",
       "      <td>No</td>\n",
       "      <td>No</td>\n",
       "      <td>Dec 9, 2023, 4:31:16â€¯PM</td>\n",
       "      <td>Jun 22, 2024, 12:00:00â€¯AM</td>\n",
       "      <td>Contact Again</td>\n",
       "      <td>IM</td>\n",
       "      <td>May 30, 2024, 4:06:17â€¯PM</td>\n",
       "      <td>May 28, 2024, 12:41:46â€¯PM</td>\n",
       "      <td>Jun 14, 2024, 7:30:58â€¯PM</td>\n",
       "      <td>Tamil</td>\n",
       "      <td>Jun 11, 2024</td>\n",
       "      <td>Jun 26, 2024, 9:25:37â€¯PM</td>\n",
       "      <td>No</td>\n",
       "      <td>No</td>\n",
       "      <td>OUTGOING_NOT_ANSWERED</td>\n",
       "      <td>Dec 9, 2023, 3:05:53â€¯PM</td>\n",
       "      <td>Mar 15, 2024, 5:43:21â€¯PM</td>\n",
       "      <td>Oct 25, 2023, 6:47:26â€¯PM</td>\n",
       "      <td>Dec 13, 2023, 8:21:05â€¯PM</td>\n",
       "    </tr>\n",
       "    <tr>\n",
       "      <th>freq</th>\n",
       "      <td>11</td>\n",
       "      <td>10830</td>\n",
       "      <td>10356</td>\n",
       "      <td>5</td>\n",
       "      <td>64</td>\n",
       "      <td>4000</td>\n",
       "      <td>3378</td>\n",
       "      <td>5</td>\n",
       "      <td>21</td>\n",
       "      <td>29</td>\n",
       "      <td>3259</td>\n",
       "      <td>35</td>\n",
       "      <td>4</td>\n",
       "      <td>11349</td>\n",
       "      <td>11310</td>\n",
       "      <td>215</td>\n",
       "      <td>5</td>\n",
       "      <td>5</td>\n",
       "      <td>5</td>\n",
       "      <td>5</td>\n",
       "    </tr>\n",
       "  </tbody>\n",
       "</table>\n",
       "</div>"
      ],
      "text/plain": [
       "                Lead creation date Webinar Attendance Status  \\\n",
       "count                        11801                     11801   \n",
       "unique                       11115                         2   \n",
       "top     May 31, 2024, 6:38:04â€¯PM                        No   \n",
       "freq                            11                     10830   \n",
       "\n",
       "       Live Session Status (Yes/No)     Registration Date time  \\\n",
       "count                         11801                      10332   \n",
       "unique                            2                       9887   \n",
       "top                              No  Dec 9, 2023, 4:31:16â€¯PM   \n",
       "freq                          10356                          5   \n",
       "\n",
       "             Qualification DateTime     Lead Stage Channel  \\\n",
       "count                         11796          11801   11792   \n",
       "unique                        10190             16      16   \n",
       "top     Jun 22, 2024, 12:00:00â€¯AM  Contact Again      IM   \n",
       "freq                             64           4000    3378   \n",
       "\n",
       "                Rechurned DateTime       PreSales Assigned date  \\\n",
       "count                         1950                        10820   \n",
       "unique                        1727                         4955   \n",
       "top     May 30, 2024, 4:06:17â€¯PM  May 28, 2024, 12:41:46â€¯PM   \n",
       "freq                             5                           21   \n",
       "\n",
       "               Sales Assigned Date Language Down Payment Date  \\\n",
       "count                        11686    11776               452   \n",
       "unique                        5740       10                28   \n",
       "top     Jun 14, 2024, 7:30:58â€¯PM    Tamil      Jun 11, 2024   \n",
       "freq                            29     3259                35   \n",
       "\n",
       "                 Full Payment Date Down Payment Status Fullpayment Status  \\\n",
       "count                          491               11801              11801   \n",
       "unique                         474                   2                  2   \n",
       "top     Jun 26, 2024, 9:25:37â€¯PM                  No                 No   \n",
       "freq                             4               11349              11310   \n",
       "\n",
       "                  call_status  Pre-Sales Team First call  \\\n",
       "count                     430                       9814   \n",
       "unique                      4                       9382   \n",
       "top     OUTGOING_NOT_ANSWERED  Dec 9, 2023, 3:05:53â€¯PM   \n",
       "freq                      215                          5   \n",
       "\n",
       "          Pre-Sales Team last call       Sales-Team First call  \\\n",
       "count                         9814                       11552   \n",
       "unique                        9324                       11005   \n",
       "top     Mar 15, 2024, 5:43:21â€¯PM  Oct 25, 2023, 6:47:26â€¯PM   \n",
       "freq                             5                           5   \n",
       "\n",
       "              Sales-Team last call  \n",
       "count                        11552  \n",
       "unique                       11066  \n",
       "top     Dec 13, 2023, 8:21:05â€¯PM  \n",
       "freq                             5  "
      ]
     },
     "execution_count": 50,
     "metadata": {},
     "output_type": "execute_result"
    }
   ],
   "source": [
    "df.describe(include=object)"
   ]
  },
  {
   "cell_type": "markdown",
   "id": "e400f420",
   "metadata": {},
   "source": [
    "# checking for Duplicate records"
   ]
  },
  {
   "cell_type": "code",
   "execution_count": 51,
   "id": "cf455b94",
   "metadata": {},
   "outputs": [
    {
     "data": {
      "text/plain": [
       "np.int64(0)"
      ]
     },
     "execution_count": 51,
     "metadata": {},
     "output_type": "execute_result"
    }
   ],
   "source": [
    "df.duplicated().sum()    ### No Duplicate Records"
   ]
  },
  {
   "cell_type": "markdown",
   "id": "99f13aa6",
   "metadata": {},
   "source": [
    "# Data Cleaning"
   ]
  },
  {
   "cell_type": "markdown",
   "id": "dfaec2cc",
   "metadata": {},
   "source": [
    "### 1. Removing unwanted characters like \"â€¯\" from date columns"
   ]
  },
  {
   "cell_type": "code",
   "execution_count": 52,
   "id": "5e605c23",
   "metadata": {},
   "outputs": [],
   "source": [
    "date_cols = [\n",
    "    'Lead creation date', 'Qualification DateTime', 'Registration Date time',\n",
    "    'Rechurned DateTime', 'Pre-Sales Team First call', 'Pre-Sales Team last call',\n",
    "    'Sales-Team First call', 'Sales-Team last call','Sales Assigned Date']\n",
    "\n",
    "for col in date_cols:\n",
    "    df[col] = df[col].astype(str).apply(\n",
    "    lambda x: ''.join(c for c in x if ord(c) < 128)\n",
    "    \n",
    "\n",
    ")"
   ]
  },
  {
   "cell_type": "code",
   "execution_count": 53,
   "id": "f389135b",
   "metadata": {},
   "outputs": [
    {
     "name": "stdout",
     "output_type": "stream",
     "text": [
      "0    Jun 8, 2024, 12:24:28PM\n",
      "1    Jun 8, 2024, 12:24:28PM\n",
      "2    Jun 8, 2024, 12:24:27PM\n",
      "3    Jun 8, 2024, 12:24:26PM\n",
      "4    Jun 8, 2024, 12:24:25PM\n",
      "5    Jun 8, 2024, 12:24:24PM\n",
      "6    Jun 8, 2024, 12:24:22PM\n",
      "7    Jun 8, 2024, 12:24:22PM\n",
      "8    Jun 8, 2024, 12:24:21PM\n",
      "9    Jun 8, 2024, 12:24:20PM\n",
      "Name: Lead creation date, dtype: object\n"
     ]
    }
   ],
   "source": [
    "print(df['Lead creation date'].head(10))"
   ]
  },
  {
   "cell_type": "markdown",
   "id": "b5ea25b6",
   "metadata": {},
   "source": [
    "### 2. Changing the datatype from object to datetime"
   ]
  },
  {
   "cell_type": "code",
   "execution_count": 54,
   "id": "618f6c60",
   "metadata": {},
   "outputs": [],
   "source": [
    "for col in date_cols:\n",
    "    df[col] = df[col].str.replace(r'(?<=\\d)(AM|PM)', r' \\1', regex=True)\n",
    "    df[col] = pd.to_datetime(df[col], format='%b %d, %Y, %I:%M:%S %p', errors='coerce')"
   ]
  },
  {
   "cell_type": "code",
   "execution_count": 55,
   "id": "aec120d5",
   "metadata": {},
   "outputs": [
    {
     "name": "stdout",
     "output_type": "stream",
     "text": [
      "0   2024-06-08 12:24:28\n",
      "1   2024-06-08 12:24:28\n",
      "2   2024-06-08 12:24:27\n",
      "3   2024-06-08 12:24:26\n",
      "4   2024-06-08 12:24:25\n",
      "5   2024-06-08 12:24:24\n",
      "6   2024-06-08 12:24:22\n",
      "7   2024-06-08 12:24:22\n",
      "8   2024-06-08 12:24:21\n",
      "9   2024-06-08 12:24:20\n",
      "Name: Lead creation date, dtype: datetime64[ns]\n"
     ]
    }
   ],
   "source": [
    "print(df['Lead creation date'].head(10))"
   ]
  },
  {
   "cell_type": "code",
   "execution_count": 56,
   "id": "3746ae93",
   "metadata": {},
   "outputs": [
    {
     "name": "stdout",
     "output_type": "stream",
     "text": [
      "<class 'pandas.core.frame.DataFrame'>\n",
      "RangeIndex: 11801 entries, 0 to 11800\n",
      "Data columns (total 27 columns):\n",
      " #   Column                                   Non-Null Count  Dtype         \n",
      "---  ------                                   --------------  -----         \n",
      " 0   Lead ID                                  11801 non-null  int64         \n",
      " 1   Lead creation date                       11801 non-null  datetime64[ns]\n",
      " 2   Webinar Attendance Status                11801 non-null  object        \n",
      " 3   Webinar_Duration (Mins)                  259 non-null    float64       \n",
      " 4   Live Session Status (Yes/No)             11801 non-null  object        \n",
      " 5   Registration Date time                   10332 non-null  datetime64[ns]\n",
      " 6   Qualification DateTime                   11796 non-null  datetime64[ns]\n",
      " 7   Lead Stage                               11801 non-null  object        \n",
      " 8   Channel                                  11792 non-null  object        \n",
      " 9   Rechurned DateTime                       1950 non-null   datetime64[ns]\n",
      " 10  PreSales Assigned date                   10820 non-null  object        \n",
      " 11  Sales Assigned Date                      11686 non-null  datetime64[ns]\n",
      " 12  Language                                 11776 non-null  object        \n",
      " 13  Down Payment Date                        452 non-null    object        \n",
      " 14  Full Payment Date                        491 non-null    object        \n",
      " 15  Down Payment Status                      11801 non-null  object        \n",
      " 16  Fullpayment Status                       11801 non-null  object        \n",
      " 17  call_status                              430 non-null    object        \n",
      " 18  Pre-Sales Team First call                9814 non-null   datetime64[ns]\n",
      " 19  Pre-Sales Team last call                 9814 non-null   datetime64[ns]\n",
      " 20  Pre-Sales Team total attempts            9886 non-null   float64       \n",
      " 21  Pre-Sales Team successful attempts       9886 non-null   float64       \n",
      " 22  Sales-Team First call                    11552 non-null  datetime64[ns]\n",
      " 23  Sales-Team last call                     11552 non-null  datetime64[ns]\n",
      " 24  Sales- Team Total Attempts               11555 non-null  float64       \n",
      " 25  Sales-Team successful attempts           11555 non-null  float64       \n",
      " 26  Total Duration of the call (in seconds)  10444 non-null  float64       \n",
      "dtypes: datetime64[ns](9), float64(6), int64(1), object(11)\n",
      "memory usage: 2.4+ MB\n"
     ]
    }
   ],
   "source": [
    "df.info()"
   ]
  },
  {
   "cell_type": "markdown",
   "id": "8609621a",
   "metadata": {},
   "source": [
    "### 3. Striping whitespace from string columns"
   ]
  },
  {
   "cell_type": "code",
   "execution_count": 57,
   "id": "97bae26e",
   "metadata": {},
   "outputs": [],
   "source": [
    "\n",
    "str_cols = df.select_dtypes(include='object').columns\n",
    "df[str_cols] = df[str_cols].apply(lambda x: x.str.strip())"
   ]
  },
  {
   "cell_type": "markdown",
   "id": "b8e8791f",
   "metadata": {},
   "source": [
    "### 4. Cleaning numeric fileds"
   ]
  },
  {
   "cell_type": "code",
   "execution_count": 58,
   "id": "7d293d1e",
   "metadata": {},
   "outputs": [],
   "source": [
    "df['Webinar_Duration (Mins)'] = pd.to_numeric(df['Webinar_Duration (Mins)'], errors='coerce')"
   ]
  },
  {
   "cell_type": "code",
   "execution_count": 59,
   "id": "a7bbc1b1",
   "metadata": {},
   "outputs": [
    {
     "data": {
      "text/plain": [
       "array([30., 31., 32., 33., 34., 35., 36., 37., 38., 39., 40.,  2.,  3.,\n",
       "        4.,  6.,  5.,  9.,  1., nan])"
      ]
     },
     "execution_count": 59,
     "metadata": {},
     "output_type": "execute_result"
    }
   ],
   "source": [
    "df[\"Webinar_Duration (Mins)\"].unique()"
   ]
  },
  {
   "cell_type": "markdown",
   "id": "3d266fc2",
   "metadata": {},
   "source": [
    "### 5. Handling NULL values"
   ]
  },
  {
   "cell_type": "code",
   "execution_count": 60,
   "id": "4da65c44",
   "metadata": {},
   "outputs": [
    {
     "data": {
      "text/plain": [
       "Lead ID                                     0.00\n",
       "Lead creation date                          0.00\n",
       "Webinar Attendance Status                   0.00\n",
       "Webinar_Duration (Mins)                    97.81\n",
       "Live Session Status (Yes/No)                0.00\n",
       "Registration Date time                     12.45\n",
       "Qualification DateTime                      0.04\n",
       "Lead Stage                                  0.00\n",
       "Channel                                     0.08\n",
       "Rechurned DateTime                         83.48\n",
       "PreSales Assigned date                      8.31\n",
       "Sales Assigned Date                         0.97\n",
       "Language                                    0.21\n",
       "Down Payment Date                          96.17\n",
       "Full Payment Date                          95.84\n",
       "Down Payment Status                         0.00\n",
       "Fullpayment Status                          0.00\n",
       "call_status                                96.36\n",
       "Pre-Sales Team First call                  16.84\n",
       "Pre-Sales Team last call                   16.84\n",
       "Pre-Sales Team total attempts              16.23\n",
       "Pre-Sales Team successful attempts         16.23\n",
       "Sales-Team First call                       2.11\n",
       "Sales-Team last call                        2.11\n",
       "Sales- Team Total Attempts                  2.08\n",
       "Sales-Team successful attempts              2.08\n",
       "Total Duration of the call (in seconds)    11.50\n",
       "dtype: float64"
      ]
     },
     "execution_count": 60,
     "metadata": {},
     "output_type": "execute_result"
    }
   ],
   "source": [
    "df.isnull().mean().round(4)*100  ## total percentage of null values in the columns"
   ]
  },
  {
   "cell_type": "code",
   "execution_count": 61,
   "id": "2927a597",
   "metadata": {},
   "outputs": [],
   "source": [
    "df = df.dropna(subset=['Qualification DateTime','Channel','Sales Assigned Date','Language','Sales-Team First call','Sales-Team last call','Sales- Team Total Attempts','Sales-Team successful attempts'])  \n",
    "\n",
    "### droping the null values from the columns whose percentage is less than or equal to 2 %.\n"
   ]
  },
  {
   "cell_type": "code",
   "execution_count": 62,
   "id": "fb3a2136",
   "metadata": {},
   "outputs": [
    {
     "data": {
      "text/plain": [
       "Lead ID                                     0.00\n",
       "Lead creation date                          0.00\n",
       "Webinar Attendance Status                   0.00\n",
       "Webinar_Duration (Mins)                    97.97\n",
       "Live Session Status (Yes/No)                0.00\n",
       "Registration Date time                     11.81\n",
       "Qualification DateTime                      0.00\n",
       "Lead Stage                                  0.00\n",
       "Channel                                     0.00\n",
       "Rechurned DateTime                         83.69\n",
       "PreSales Assigned date                      8.01\n",
       "Sales Assigned Date                         0.00\n",
       "Language                                    0.00\n",
       "Down Payment Date                          96.13\n",
       "Full Payment Date                          95.87\n",
       "Down Payment Status                         0.00\n",
       "Fullpayment Status                          0.00\n",
       "call_status                                96.44\n",
       "Pre-Sales Team First call                  16.50\n",
       "Pre-Sales Team last call                   16.50\n",
       "Pre-Sales Team total attempts              15.89\n",
       "Pre-Sales Team successful attempts         15.89\n",
       "Sales-Team First call                       0.00\n",
       "Sales-Team last call                        0.00\n",
       "Sales- Team Total Attempts                  0.00\n",
       "Sales-Team successful attempts              0.00\n",
       "Total Duration of the call (in seconds)    10.60\n",
       "dtype: float64"
      ]
     },
     "execution_count": 62,
     "metadata": {},
     "output_type": "execute_result"
    }
   ],
   "source": [
    "df.isnull().mean().round(4)*100"
   ]
  },
  {
   "cell_type": "markdown",
   "id": "5f63b682",
   "metadata": {},
   "source": [
    "### Create engagement segment"
   ]
  },
  {
   "cell_type": "code",
   "execution_count": 63,
   "id": "b67dade1",
   "metadata": {},
   "outputs": [],
   "source": [
    "df['Engagement Segment'] = np.where(\n",
    "    df['Webinar_Duration (Mins)'].isna(), 'No Attendance',\n",
    "    np.where(df['Webinar_Duration (Mins)'] < 30, 'Low Intent',\n",
    "    np.where(df['Webinar_Duration (Mins)'] < 40, 'Medium Intent', 'High Intent'))\n",
    ")"
   ]
  },
  {
   "cell_type": "code",
   "execution_count": 64,
   "id": "b98af9b7",
   "metadata": {},
   "outputs": [
    {
     "data": {
      "text/plain": [
       "array(['Medium Intent', 'High Intent', 'Low Intent', 'No Attendance'],\n",
       "      dtype=object)"
      ]
     },
     "execution_count": 64,
     "metadata": {},
     "output_type": "execute_result"
    }
   ],
   "source": [
    "df[\"Engagement Segment\"].unique()"
   ]
  },
  {
   "cell_type": "markdown",
   "id": "f49a0921",
   "metadata": {},
   "source": [
    "### Define funnel stage"
   ]
  },
  {
   "cell_type": "code",
   "execution_count": 65,
   "id": "589e6537",
   "metadata": {},
   "outputs": [],
   "source": [
    "df['Funnel Stage'] = np.where(\n",
    "    (df['Webinar Attendance Status'] == 'Yes') & (df['Webinar_Duration (Mins)'] >= 35),\n",
    "    'Qualified for Sales',\n",
    "    np.where(\n",
    "        (df['Webinar Attendance Status'] == 'Yes') & (df['Webinar_Duration (Mins)'] < 35),\n",
    "        'Webinar Attended - Not Qualified',\n",
    "        'Lead Created'\n",
    "    )\n",
    ")"
   ]
  },
  {
   "cell_type": "code",
   "execution_count": 66,
   "id": "cd5491a7",
   "metadata": {},
   "outputs": [
    {
     "data": {
      "text/plain": [
       "array(['Webinar Attended - Not Qualified', 'Qualified for Sales',\n",
       "       'Lead Created'], dtype=object)"
      ]
     },
     "execution_count": 66,
     "metadata": {},
     "output_type": "execute_result"
    }
   ],
   "source": [
    "df[\"Funnel Stage\"].unique()"
   ]
  },
  {
   "cell_type": "markdown",
   "id": "9a605ac6",
   "metadata": {},
   "source": [
    "# Aggregation,Analysis and Visualizations"
   ]
  },
  {
   "cell_type": "markdown",
   "id": "927455ff",
   "metadata": {},
   "source": [
    "## # Engagement by Channel"
   ]
  },
  {
   "cell_type": "markdown",
   "id": "dd0da570",
   "metadata": {},
   "source": [
    "#### Most leads from these channels have missing engagement data (possibly didn't attend webinars)\n",
    "#### Mostly better engagement is done by : Digital marketing, IM , offline workshops and Outbound"
   ]
  },
  {
   "cell_type": "code",
   "execution_count": 67,
   "id": "2fae5b76",
   "metadata": {},
   "outputs": [
    {
     "data": {
      "text/html": [
       "<div>\n",
       "<style scoped>\n",
       "    .dataframe tbody tr th:only-of-type {\n",
       "        vertical-align: middle;\n",
       "    }\n",
       "\n",
       "    .dataframe tbody tr th {\n",
       "        vertical-align: top;\n",
       "    }\n",
       "\n",
       "    .dataframe thead th {\n",
       "        text-align: right;\n",
       "    }\n",
       "</style>\n",
       "<table border=\"1\" class=\"dataframe\">\n",
       "  <thead>\n",
       "    <tr style=\"text-align: right;\">\n",
       "      <th>Engagement Segment</th>\n",
       "      <th>High Intent</th>\n",
       "      <th>Low Intent</th>\n",
       "      <th>Medium Intent</th>\n",
       "      <th>No Attendance</th>\n",
       "    </tr>\n",
       "    <tr>\n",
       "      <th>Channel</th>\n",
       "      <th></th>\n",
       "      <th></th>\n",
       "      <th></th>\n",
       "      <th></th>\n",
       "    </tr>\n",
       "  </thead>\n",
       "  <tbody>\n",
       "    <tr>\n",
       "      <th>AI Workshop to Outbound</th>\n",
       "      <td>0.0</td>\n",
       "      <td>0.0</td>\n",
       "      <td>0.0</td>\n",
       "      <td>1699.0</td>\n",
       "    </tr>\n",
       "    <tr>\n",
       "      <th>Affiliate</th>\n",
       "      <td>0.0</td>\n",
       "      <td>0.0</td>\n",
       "      <td>0.0</td>\n",
       "      <td>7.0</td>\n",
       "    </tr>\n",
       "    <tr>\n",
       "      <th>Brand Search</th>\n",
       "      <td>0.0</td>\n",
       "      <td>0.0</td>\n",
       "      <td>0.0</td>\n",
       "      <td>7.0</td>\n",
       "    </tr>\n",
       "    <tr>\n",
       "      <th>CD to Outbound</th>\n",
       "      <td>0.0</td>\n",
       "      <td>1.0</td>\n",
       "      <td>3.0</td>\n",
       "      <td>848.0</td>\n",
       "    </tr>\n",
       "    <tr>\n",
       "      <th>College Stalls</th>\n",
       "      <td>0.0</td>\n",
       "      <td>0.0</td>\n",
       "      <td>0.0</td>\n",
       "      <td>87.0</td>\n",
       "    </tr>\n",
       "    <tr>\n",
       "      <th>Digital Affiliate</th>\n",
       "      <td>0.0</td>\n",
       "      <td>0.0</td>\n",
       "      <td>2.0</td>\n",
       "      <td>113.0</td>\n",
       "    </tr>\n",
       "    <tr>\n",
       "      <th>Digital Marketing</th>\n",
       "      <td>1.0</td>\n",
       "      <td>22.0</td>\n",
       "      <td>35.0</td>\n",
       "      <td>1868.0</td>\n",
       "    </tr>\n",
       "    <tr>\n",
       "      <th>IM</th>\n",
       "      <td>2.0</td>\n",
       "      <td>1.0</td>\n",
       "      <td>12.0</td>\n",
       "      <td>3324.0</td>\n",
       "    </tr>\n",
       "    <tr>\n",
       "      <th>IM to Outbound</th>\n",
       "      <td>0.0</td>\n",
       "      <td>0.0</td>\n",
       "      <td>0.0</td>\n",
       "      <td>7.0</td>\n",
       "    </tr>\n",
       "    <tr>\n",
       "      <th>Inbound</th>\n",
       "      <td>0.0</td>\n",
       "      <td>5.0</td>\n",
       "      <td>29.0</td>\n",
       "      <td>707.0</td>\n",
       "    </tr>\n",
       "    <tr>\n",
       "      <th>NET</th>\n",
       "      <td>0.0</td>\n",
       "      <td>0.0</td>\n",
       "      <td>0.0</td>\n",
       "      <td>1.0</td>\n",
       "    </tr>\n",
       "    <tr>\n",
       "      <th>Offline Workshops</th>\n",
       "      <td>1.0</td>\n",
       "      <td>7.0</td>\n",
       "      <td>15.0</td>\n",
       "      <td>402.0</td>\n",
       "    </tr>\n",
       "    <tr>\n",
       "      <th>Outbound</th>\n",
       "      <td>1.0</td>\n",
       "      <td>79.0</td>\n",
       "      <td>18.0</td>\n",
       "      <td>2199.0</td>\n",
       "    </tr>\n",
       "    <tr>\n",
       "      <th>SEO</th>\n",
       "      <td>0.0</td>\n",
       "      <td>0.0</td>\n",
       "      <td>0.0</td>\n",
       "      <td>7.0</td>\n",
       "    </tr>\n",
       "    <tr>\n",
       "      <th>Social Media - Official Handle</th>\n",
       "      <td>0.0</td>\n",
       "      <td>0.0</td>\n",
       "      <td>0.0</td>\n",
       "      <td>2.0</td>\n",
       "    </tr>\n",
       "  </tbody>\n",
       "</table>\n",
       "</div>"
      ],
      "text/plain": [
       "Engagement Segment              High Intent  Low Intent  Medium Intent  \\\n",
       "Channel                                                                  \n",
       "AI Workshop to Outbound                 0.0         0.0            0.0   \n",
       "Affiliate                               0.0         0.0            0.0   \n",
       "Brand Search                            0.0         0.0            0.0   \n",
       "CD to Outbound                          0.0         1.0            3.0   \n",
       "College Stalls                          0.0         0.0            0.0   \n",
       "Digital Affiliate                       0.0         0.0            2.0   \n",
       "Digital Marketing                       1.0        22.0           35.0   \n",
       "IM                                      2.0         1.0           12.0   \n",
       "IM to Outbound                          0.0         0.0            0.0   \n",
       "Inbound                                 0.0         5.0           29.0   \n",
       "NET                                     0.0         0.0            0.0   \n",
       "Offline Workshops                       1.0         7.0           15.0   \n",
       "Outbound                                1.0        79.0           18.0   \n",
       "SEO                                     0.0         0.0            0.0   \n",
       "Social Media - Official Handle          0.0         0.0            0.0   \n",
       "\n",
       "Engagement Segment              No Attendance  \n",
       "Channel                                        \n",
       "AI Workshop to Outbound                1699.0  \n",
       "Affiliate                                 7.0  \n",
       "Brand Search                              7.0  \n",
       "CD to Outbound                          848.0  \n",
       "College Stalls                           87.0  \n",
       "Digital Affiliate                       113.0  \n",
       "Digital Marketing                      1868.0  \n",
       "IM                                     3324.0  \n",
       "IM to Outbound                            7.0  \n",
       "Inbound                                 707.0  \n",
       "NET                                       1.0  \n",
       "Offline Workshops                       402.0  \n",
       "Outbound                               2199.0  \n",
       "SEO                                       7.0  \n",
       "Social Media - Official Handle            2.0  "
      ]
     },
     "execution_count": 67,
     "metadata": {},
     "output_type": "execute_result"
    }
   ],
   "source": [
    "\n",
    "engagement_by_channel = df.groupby('Channel')['Engagement Segment'].value_counts().unstack().fillna(0)\n",
    "engagement_by_channel"
   ]
  },
  {
   "cell_type": "code",
   "execution_count": 68,
   "id": "f10eb94a",
   "metadata": {},
   "outputs": [
    {
     "data": {
      "image/png": "[encoded data removed]",
      "text/plain": [
       "<Figure size 1000x600 with 1 Axes>"
      ]
     },
     "metadata": {},
     "output_type": "display_data"
    }
   ],
   "source": [
    "engagement_by_channel_percent = engagement_by_channel.div(engagement_by_channel.sum(axis=1), axis=0)\n",
    "engagement_by_channel_percent.plot(kind='bar', stacked=True, figsize=(10, 6), colormap='Accent')\n",
    "plt.title('Engagement Segments by Channel (Percentage)')\n",
    "plt.ylabel('Percentage')\n",
    "plt.xticks(rotation=45)\n",
    "plt.tight_layout()\n",
    "plt.show()"
   ]
  },
  {
   "cell_type": "markdown",
   "id": "7cf767c4",
   "metadata": {},
   "source": [
    "## # Funnel Drop-offs"
   ]
  },
  {
   "cell_type": "code",
   "execution_count": 69,
   "id": "50c9900f",
   "metadata": {},
   "outputs": [
    {
     "data": {
      "text/html": [
       "<div>\n",
       "<style scoped>\n",
       "    .dataframe tbody tr th:only-of-type {\n",
       "        vertical-align: middle;\n",
       "    }\n",
       "\n",
       "    .dataframe tbody tr th {\n",
       "        vertical-align: top;\n",
       "    }\n",
       "\n",
       "    .dataframe thead th {\n",
       "        text-align: right;\n",
       "    }\n",
       "</style>\n",
       "<table border=\"1\" class=\"dataframe\">\n",
       "  <thead>\n",
       "    <tr style=\"text-align: right;\">\n",
       "      <th></th>\n",
       "      <th>Funnel Stage</th>\n",
       "      <th>Count</th>\n",
       "    </tr>\n",
       "  </thead>\n",
       "  <tbody>\n",
       "    <tr>\n",
       "      <th>0</th>\n",
       "      <td>Lead Created</td>\n",
       "      <td>11282</td>\n",
       "    </tr>\n",
       "    <tr>\n",
       "      <th>1</th>\n",
       "      <td>Webinar Attended - Not Qualified</td>\n",
       "      <td>191</td>\n",
       "    </tr>\n",
       "    <tr>\n",
       "      <th>2</th>\n",
       "      <td>Qualified for Sales</td>\n",
       "      <td>39</td>\n",
       "    </tr>\n",
       "  </tbody>\n",
       "</table>\n",
       "</div>"
      ],
      "text/plain": [
       "                       Funnel Stage  Count\n",
       "0                      Lead Created  11282\n",
       "1  Webinar Attended - Not Qualified    191\n",
       "2               Qualified for Sales     39"
      ]
     },
     "execution_count": 69,
     "metadata": {},
     "output_type": "execute_result"
    }
   ],
   "source": [
    "\n",
    "funnel_counts = df['Funnel Stage'].value_counts().reset_index()\n",
    "funnel_counts.columns = ['Funnel Stage', 'Count']\n",
    "funnel_counts"
   ]
  },
  {
   "cell_type": "markdown",
   "id": "f1ab5d80",
   "metadata": {},
   "source": [
    "#### Result: Most leads are stuck at the \"Lead Created\" stage, showing a major drop-off before qualification."
   ]
  },
  {
   "cell_type": "code",
   "execution_count": 70,
   "id": "38a1cb38",
   "metadata": {},
   "outputs": [
    {
     "name": "stderr",
     "output_type": "stream",
     "text": [
      "C:\\Users\\Admin\\AppData\\Local\\Temp\\ipykernel_21784\\1588279123.py:2: FutureWarning: \n",
      "\n",
      "Passing `palette` without assigning `hue` is deprecated and will be removed in v0.14.0. Assign the `x` variable to `hue` and set `legend=False` for the same effect.\n",
      "\n",
      "  sns.barplot(data=funnel_counts, x='Funnel Stage', y='Count', palette='viridis')\n"
     ]
    },
    {
     "data": {
      "image/png": "[encoded data removed]",
      "text/plain": [
       "<Figure size 800x500 with 1 Axes>"
      ]
     },
     "metadata": {},
     "output_type": "display_data"
    }
   ],
   "source": [
    "plt.figure(figsize=(8, 5))\n",
    "sns.barplot(data=funnel_counts, x='Funnel Stage', y='Count', palette='viridis')\n",
    "plt.title('Lead Funnel Breakdown')\n",
    "plt.xticks(rotation=20)\n",
    "plt.show()"
   ]
  },
  {
   "cell_type": "markdown",
   "id": "649f4db9",
   "metadata": {},
   "source": [
    "## # Qualification by Language"
   ]
  },
  {
   "cell_type": "markdown",
   "id": "bc967543",
   "metadata": {},
   "source": [
    "### Telugu,Hindi and Malayalam leads have the highest qualification rate. Tamil has the lowest."
   ]
  },
  {
   "cell_type": "code",
   "execution_count": 71,
   "id": "d4295929",
   "metadata": {},
   "outputs": [
    {
     "data": {
      "text/html": [
       "<div>\n",
       "<style scoped>\n",
       "    .dataframe tbody tr th:only-of-type {\n",
       "        vertical-align: middle;\n",
       "    }\n",
       "\n",
       "    .dataframe tbody tr th {\n",
       "        vertical-align: top;\n",
       "    }\n",
       "\n",
       "    .dataframe thead th {\n",
       "        text-align: right;\n",
       "    }\n",
       "</style>\n",
       "<table border=\"1\" class=\"dataframe\">\n",
       "  <thead>\n",
       "    <tr style=\"text-align: right;\">\n",
       "      <th></th>\n",
       "      <th>Language</th>\n",
       "      <th>is_qualified</th>\n",
       "      <th>Qualification Rate (%)</th>\n",
       "    </tr>\n",
       "  </thead>\n",
       "  <tbody>\n",
       "    <tr>\n",
       "      <th>9</th>\n",
       "      <td>Telugu</td>\n",
       "      <td>0.007059</td>\n",
       "      <td>0.705882</td>\n",
       "    </tr>\n",
       "    <tr>\n",
       "      <th>3</th>\n",
       "      <td>Hindi</td>\n",
       "      <td>0.005382</td>\n",
       "      <td>0.538213</td>\n",
       "    </tr>\n",
       "    <tr>\n",
       "      <th>5</th>\n",
       "      <td>Malayalam</td>\n",
       "      <td>0.004769</td>\n",
       "      <td>0.476948</td>\n",
       "    </tr>\n",
       "    <tr>\n",
       "      <th>4</th>\n",
       "      <td>Kannada</td>\n",
       "      <td>0.001055</td>\n",
       "      <td>0.105485</td>\n",
       "    </tr>\n",
       "    <tr>\n",
       "      <th>8</th>\n",
       "      <td>Tamil</td>\n",
       "      <td>0.000944</td>\n",
       "      <td>0.094429</td>\n",
       "    </tr>\n",
       "    <tr>\n",
       "      <th>0</th>\n",
       "      <td>Bengali</td>\n",
       "      <td>0.000000</td>\n",
       "      <td>0.000000</td>\n",
       "    </tr>\n",
       "    <tr>\n",
       "      <th>1</th>\n",
       "      <td>English</td>\n",
       "      <td>0.000000</td>\n",
       "      <td>0.000000</td>\n",
       "    </tr>\n",
       "    <tr>\n",
       "      <th>2</th>\n",
       "      <td>Gujarati</td>\n",
       "      <td>0.000000</td>\n",
       "      <td>0.000000</td>\n",
       "    </tr>\n",
       "    <tr>\n",
       "      <th>7</th>\n",
       "      <td>Odia</td>\n",
       "      <td>0.000000</td>\n",
       "      <td>0.000000</td>\n",
       "    </tr>\n",
       "    <tr>\n",
       "      <th>6</th>\n",
       "      <td>Marathi</td>\n",
       "      <td>0.000000</td>\n",
       "      <td>0.000000</td>\n",
       "    </tr>\n",
       "  </tbody>\n",
       "</table>\n",
       "</div>"
      ],
      "text/plain": [
       "    Language  is_qualified  Qualification Rate (%)\n",
       "9     Telugu      0.007059                0.705882\n",
       "3      Hindi      0.005382                0.538213\n",
       "5  Malayalam      0.004769                0.476948\n",
       "4    Kannada      0.001055                0.105485\n",
       "8      Tamil      0.000944                0.094429\n",
       "0    Bengali      0.000000                0.000000\n",
       "1    English      0.000000                0.000000\n",
       "2   Gujarati      0.000000                0.000000\n",
       "7       Odia      0.000000                0.000000\n",
       "6    Marathi      0.000000                0.000000"
      ]
     },
     "execution_count": 71,
     "metadata": {},
     "output_type": "execute_result"
    }
   ],
   "source": [
    "\n",
    "df['is_qualified'] = df['Funnel Stage'] == 'Qualified for Sales'\n",
    "qualification_by_language = df.groupby('Language')['is_qualified'].mean().reset_index()\n",
    "qualification_by_language['Qualification Rate (%)'] = qualification_by_language['is_qualified'] * 100\n",
    "qualification_by_language = qualification_by_language.sort_values(by='Qualification Rate (%)', ascending=False)\n",
    "qualification_by_language"
   ]
  },
  {
   "cell_type": "code",
   "execution_count": 72,
   "id": "6ce15788",
   "metadata": {},
   "outputs": [
    {
     "data": {
      "text/html": [
       "<div>\n",
       "<style scoped>\n",
       "    .dataframe tbody tr th:only-of-type {\n",
       "        vertical-align: middle;\n",
       "    }\n",
       "\n",
       "    .dataframe tbody tr th {\n",
       "        vertical-align: top;\n",
       "    }\n",
       "\n",
       "    .dataframe thead th {\n",
       "        text-align: right;\n",
       "    }\n",
       "</style>\n",
       "<table border=\"1\" class=\"dataframe\">\n",
       "  <thead>\n",
       "    <tr style=\"text-align: right;\">\n",
       "      <th></th>\n",
       "      <th>Language</th>\n",
       "      <th>is_qualified</th>\n",
       "      <th>Qualification Rate (%)</th>\n",
       "    </tr>\n",
       "  </thead>\n",
       "  <tbody>\n",
       "    <tr>\n",
       "      <th>0</th>\n",
       "      <td>Hindi</td>\n",
       "      <td>0.005382</td>\n",
       "      <td>0.538213</td>\n",
       "    </tr>\n",
       "    <tr>\n",
       "      <th>1</th>\n",
       "      <td>Kannada</td>\n",
       "      <td>0.001055</td>\n",
       "      <td>0.105485</td>\n",
       "    </tr>\n",
       "    <tr>\n",
       "      <th>2</th>\n",
       "      <td>Malayalam</td>\n",
       "      <td>0.004769</td>\n",
       "      <td>0.476948</td>\n",
       "    </tr>\n",
       "    <tr>\n",
       "      <th>3</th>\n",
       "      <td>Tamil</td>\n",
       "      <td>0.000944</td>\n",
       "      <td>0.094429</td>\n",
       "    </tr>\n",
       "    <tr>\n",
       "      <th>4</th>\n",
       "      <td>Telugu</td>\n",
       "      <td>0.007059</td>\n",
       "      <td>0.705882</td>\n",
       "    </tr>\n",
       "  </tbody>\n",
       "</table>\n",
       "</div>"
      ],
      "text/plain": [
       "    Language  is_qualified  Qualification Rate (%)\n",
       "0      Hindi      0.005382                0.538213\n",
       "1    Kannada      0.001055                0.105485\n",
       "2  Malayalam      0.004769                0.476948\n",
       "3      Tamil      0.000944                0.094429\n",
       "4     Telugu      0.007059                0.705882"
      ]
     },
     "execution_count": 72,
     "metadata": {},
     "output_type": "execute_result"
    }
   ],
   "source": [
    "# Qualification Rate by Top 5 Languages\n",
    "top_langs = df['Language'].value_counts().nlargest(5).index\n",
    "top_lang_data = df[df['Language'].isin(top_langs)]\n",
    "top_lang_qual = top_lang_data.groupby('Language')['is_qualified'].mean().reset_index()\n",
    "top_lang_qual['Qualification Rate (%)'] = top_lang_qual['is_qualified'] * 100\n",
    "\n",
    "top_lang_qual\n"
   ]
  },
  {
   "cell_type": "code",
   "execution_count": 73,
   "id": "ed4f89c7",
   "metadata": {},
   "outputs": [
    {
     "data": {
      "image/png": "[encoded data removed]",
      "text/plain": [
       "<Figure size 1000x600 with 1 Axes>"
      ]
     },
     "metadata": {},
     "output_type": "display_data"
    }
   ],
   "source": [
    "plt.figure(figsize=(10, 6))\n",
    "sns.barplot(data=top_lang_qual, x='Language', y='Qualification Rate (%)')\n",
    "plt.title('Qualification Rate by Language (Top 5)')\n",
    "plt.ylabel('Qualification Rate (%)')\n",
    "plt.xlabel('Language')\n",
    "plt.show()"
   ]
  },
  {
   "cell_type": "code",
   "execution_count": 74,
   "id": "f7003f7e",
   "metadata": {},
   "outputs": [],
   "source": [
    "df.to_excel(\"Cleaned_lead_flow_Assignment_Data.xlsx\", index=False)"
   ]
  },
  {
   "cell_type": "code",
   "execution_count": null,
   "id": "77db4009",
   "metadata": {},
   "outputs": [],
   "source": []
  }
 ],
 "metadata": {
  "kernelspec": {
   "display_name": "Python 3",
   "language": "python",
   "name": "python3"
  },
  "language_info": {
   "codemirror_mode": {
    "name": "ipython",
    "version": 3
   },
   "file_extension": ".py",
   "mimetype": "text/x-python",
   "name": "python",
   "nbconvert_exporter": "python",
   "pygments_lexer": "ipython3",
   "version": "3.12.4"
  }
 },
 "nbformat": 4,
 "nbformat_minor": 5
}
